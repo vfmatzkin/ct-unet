{
 "cells": [
  {
   "cell_type": "markdown",
   "metadata": {
    "collapsed": true,
    "pycharm": {
     "name": "#%% md\n"
    }
   },
   "source": [
    "## Autoimplant Challenge 2020 submission"
   ]
  },
  {
   "cell_type": "markdown",
   "metadata": {
    "pycharm": {
     "name": "#%% md\n"
    }
   },
   "source": [
    "### Package installation"
   ]
  },
  {
   "cell_type": "code",
   "execution_count": null,
   "metadata": {
    "pycharm": {
     "name": "#%%\n"
    }
   },
   "outputs": [],
   "source": [
    "!pip install ctunet\n",
    "import ctunet"
   ]
  },
  {
   "cell_type": "markdown",
   "metadata": {},
   "source": [
    "### Get data"
   ]
  },
  {
   "cell_type": "code",
   "execution_count": null,
   "metadata": {
    "pycharm": {
     "name": "#%%\n"
    }
   },
   "outputs": [],
   "source": [
    "# Mount drive and set folder variables in dict.\n",
    "\n",
    "train_files = 'content/drive/'\n",
    "validation_files = 'content/drive/'\n",
    "test_files = 'content/drive/'\n"
   ]
  },
  {
   "cell_type": "markdown",
   "metadata": {},
   "source": [
    "### Train model"
   ]
  },
  {
   "cell_type": "code",
   "execution_count": 2,
   "metadata": {
    "pycharm": {
     "name": "#%%\n"
    }
   },
   "outputs": [
    {
     "ename": "NameError",
     "evalue": "name 'train_files' is not defined",
     "output_type": "error",
     "traceback": [
      "\u001B[0;31m---------------------------------------------------------------------------\u001B[0m",
      "\u001B[0;31mNameError\u001B[0m                                 Traceback (most recent call last)",
      "\u001B[0;32m<ipython-input-2-ecbc4a42f0b6>\u001B[0m in \u001B[0;36m<module>\u001B[0;34m\u001B[0m\n\u001B[1;32m      6\u001B[0m params.update({'train_flag': True,\n\u001B[1;32m      7\u001B[0m                \u001B[0;34m'test_flag'\u001B[0m\u001B[0;34m:\u001B[0m \u001B[0;32mFalse\u001B[0m\u001B[0;34m,\u001B[0m\u001B[0;34m\u001B[0m\u001B[0m\n\u001B[0;32m----> 8\u001B[0;31m                \u001B[0;34m'train_files'\u001B[0m\u001B[0;34m:\u001B[0m \u001B[0mtrain_files\u001B[0m\u001B[0;34m,\u001B[0m\u001B[0;34m\u001B[0m\u001B[0m\n\u001B[0m\u001B[1;32m      9\u001B[0m                \u001B[0;34m'validation_files'\u001B[0m\u001B[0;34m:\u001B[0m \u001B[0mvalidation_files\u001B[0m\u001B[0;34m,\u001B[0m\u001B[0;34m\u001B[0m\u001B[0m\n\u001B[1;32m     10\u001B[0m                'test_files': test_files})\n",
      "\u001B[0;31mNameError\u001B[0m: name 'train_files' is not defined"
     ]
    }
   ],
   "source": [
    "import ctunet\n",
    "import os\n",
    "ctunet_path = os.path.split(ctunet.__file__)[0]\n",
    "\n",
    "params = ctunet.load_params(ctunet_path + '/cfg/AutoImplant2020_wShapePrior.ini')\n",
    "params.update({'train_flag': True,\n",
    "               'test_flag': False,\n",
    "               'train_files': train_files,\n",
    "               'validation_files': validation_files,\n",
    "               'test_files': test_files})\n",
    "ctunet.Model(params=params)"
   ]
  }
 ],
 "metadata": {
  "kernelspec": {
   "display_name": "PyCharm (jsrt-segmentation-unet)",
   "language": "python",
   "name": "pycharm-a82427a"
  },
  "language_info": {
   "codemirror_mode": {
    "name": "ipython",
    "version": 3
   },
   "file_extension": ".py",
   "mimetype": "text/x-python",
   "name": "python",
   "nbconvert_exporter": "python",
   "pygments_lexer": "ipython3",
   "version": "3.7.0"
  }
 },
 "nbformat": 4,
 "nbformat_minor": 1
}